{
 "cells": [
  {
   "cell_type": "markdown",
   "metadata": {},
   "source": []
  },
  {
   "cell_type": "code",
   "execution_count": null,
   "metadata": {},
   "outputs": [],
   "source": [
    "import pandas as pd\n",
    "import matplotlib.pyplot as plt\n",
    "import seaborn as sns"
   ]
  },
  {
   "cell_type": "code",
   "execution_count": null,
   "metadata": {},
   "outputs": [],
   "source": [
    "# Create a sample dataset for demonstration\n",
    "data = pd.DataFrame({\n",
    "    'TransactionId': range(1, 101),\n",
    "    'Amount': [1000 + i * 50 for i in range(100)],\n",
    "    'Value': [abs(1000 + i * 50) for i in range(100)],\n",
    "    'FraudResult': [0 if i % 2 == 0 else 1 for i in range(100)],\n",
    "    'CountryCode': [1, 2, 3, 4] * 25,\n",
    "    'ProductCategory': ['A', 'B', 'C', 'D'] * 25,\n",
    "    'ChannelId': ['Web', 'Android', 'iOS', 'PayLater'] * 25,\n",
    "})\n",
    "\n",
    "# Display the first few rows\n",
    "print(\"First few rows of the dataset:\")\n",
    "data.head()\n"
   ]
  },
  {
   "cell_type": "code",
   "execution_count": null,
   "metadata": {},
   "outputs": [],
   "source": [
    "# Get general information about the dataset\n",
    "print(\"Dataset Info:\")\n",
    "data.info()\n",
    "\n",
    "# Check for duplicates\n",
    "duplicates_count = data.duplicated().sum()\n",
    "print(f\"\\nNumber of Duplicates: {duplicates_count}\")\n",
    "\n",
    "# Summary statistics for numerical features\n",
    "print(\"\\nSummary Statistics (Numerical):\")\n",
    "print(data.describe())\n",
    "\n",
    "# Summary statistics for categorical features\n",
    "print(\"\\nSummary Statistics (Categorical):\")\n",
    "print(data.describe(include=['object']))\n"
   ]
  },
  {
   "cell_type": "code",
   "execution_count": null,
   "metadata": {},
   "outputs": [],
   "source": [
    "# Plot histograms for numerical features\n",
    "numerical_features = data.select_dtypes(include=['float64', 'int64']).columns\n",
    "for col in numerical_features:\n",
    "    plt.figure(figsize=(8, 4))\n",
    "    sns.histplot(data[col], kde=True, bins=30)\n",
    "    plt.title(f\"Distribution of {col}\")\n",
    "    plt.xlabel(col)\n",
    "    plt.ylabel(\"Frequency\")\n",
    "    plt.show()\n"
   ]
  },
  {
   "cell_type": "code",
   "execution_count": null,
   "metadata": {},
   "outputs": [],
   "source": [
    "# Plot count plots for categorical features\n",
    "categorical_features = data.select_dtypes(include=['object']).columns\n",
    "for col in categorical_features:\n",
    "    plt.figure(figsize=(8, 4))\n",
    "    sns.countplot(y=data[col], order=data[col].value_counts().index)\n",
    "    plt.title(f\"Frequency of {col}\")\n",
    "    plt.xlabel(\"Count\")\n",
    "    plt.ylabel(col)\n",
    "    plt.show()\n"
   ]
  },
  {
   "cell_type": "code",
   "execution_count": null,
   "metadata": {},
   "outputs": [],
   "source": [
    "# Calculate the correlation matrix\n",
    "corr = data[numerical_features].corr()\n",
    "\n",
    "# Plot the heatmap\n",
    "plt.figure(figsize=(10, 8))\n",
    "sns.heatmap(corr, annot=True, cmap=\"coolwarm\", fmt=\".2f\")\n",
    "plt.title(\"Correlation Matrix\")\n",
    "plt.show()\n"
   ]
  },
  {
   "cell_type": "code",
   "execution_count": null,
   "metadata": {},
   "outputs": [],
   "source": [
    "# Check for missing values\n",
    "missing_values = data.isnull().sum()\n",
    "print(\"\\nMissing Values in Each Column:\")\n",
    "print(missing_values)\n"
   ]
  },
  {
   "cell_type": "code",
   "execution_count": null,
   "metadata": {},
   "outputs": [],
   "source": [
    "# Plot boxplots to detect outliers in numerical features\n",
    "for col in numerical_features:\n",
    "    plt.figure(figsize=(8, 4))\n",
    "    sns.boxplot(x=data[col])\n",
    "    plt.title(f\"Boxplot of {col}\")\n",
    "    plt.show()\n"
   ]
  }
 ],
 "metadata": {
  "kernelspec": {
   "display_name": "Python 3",
   "language": "python",
   "name": "python3"
  },
  "language_info": {
   "name": "python",
   "version": "3.10.11"
  }
 },
 "nbformat": 4,
 "nbformat_minor": 2
}
